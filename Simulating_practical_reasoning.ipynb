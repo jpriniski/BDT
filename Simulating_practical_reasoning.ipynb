{
  "nbformat": 4,
  "nbformat_minor": 0,
  "metadata": {
    "colab": {
      "provenance": []
    },
    "kernelspec": {
      "name": "python3",
      "display_name": "Python 3"
    },
    "language_info": {
      "name": "python"
    }
  },
  "cells": [
    {
      "cell_type": "markdown",
      "source": [
        "# Simulations from model only implementing Bayes rule and Bayesian practical reasoner model\n",
        "\n",
        "email any Qs to hunter @ priniski at u c l a dot e d u\n"
      ],
      "metadata": {
        "id": "LNQPkp6lT60G"
      }
    },
    {
      "cell_type": "code",
      "execution_count": null,
      "metadata": {
        "id": "WT2GdnKSWx9f",
        "colab": {
          "base_uri": "https://localhost:8080/"
        },
        "outputId": "d546306b-8d93-454b-eddc-830ff4a7bc22"
      },
      "outputs": [
        {
          "output_type": "stream",
          "name": "stdout",
          "text": [
            "Mounted at /content/drive\n"
          ]
        }
      ],
      "source": [
        "from google.colab import drive\n",
        "drive.mount('/content/drive')"
      ]
    },
    {
      "cell_type": "code",
      "source": [
        "cd /content/drive/MyDrive/Motivated Decisions /BDT Model"
      ],
      "metadata": {
        "colab": {
          "base_uri": "https://localhost:8080/"
        },
        "id": "tJTetAVsSIkR",
        "outputId": "34a73237-01e3-4cbd-b133-3708707c7b57"
      },
      "execution_count": null,
      "outputs": [
        {
          "output_type": "stream",
          "name": "stdout",
          "text": [
            "/content/drive/MyDrive/Motivated Decisions /BDT Model\n"
          ]
        }
      ]
    },
    {
      "cell_type": "code",
      "source": [
        "cd ../"
      ],
      "metadata": {
        "colab": {
          "base_uri": "https://localhost:8080/"
        },
        "id": "HOLA9lqqQIMZ",
        "outputId": "222b8705-990f-4de4-fc4d-7cf439f708d5"
      },
      "execution_count": null,
      "outputs": [
        {
          "output_type": "stream",
          "name": "stdout",
          "text": [
            "/content/drive/MyDrive\n"
          ]
        }
      ]
    },
    {
      "cell_type": "code",
      "source": [
        "import random\n",
        "random.seed(420)"
      ],
      "metadata": {
        "id": "rtNMIevjZw6Q"
      },
      "execution_count": null,
      "outputs": []
    },
    {
      "cell_type": "code",
      "source": [
        "import pandas as pd\n",
        "import scipy\n",
        "\n",
        "import numpy as np\n",
        "\n",
        "from random import randrange\n",
        "from random import choice\n",
        "\n",
        "from scipy.stats import beta, bernoulli\n",
        "\n",
        "\n",
        "%matplotlib inline\n",
        "import matplotlib.pyplot as plt\n",
        "\n",
        "import seaborn as sns\n",
        "sns.set_theme(style = 'white')"
      ],
      "metadata": {
        "id": "iqNxYNLJSgkw"
      },
      "execution_count": null,
      "outputs": []
    },
    {
      "cell_type": "code",
      "source": [
        "#we say there is 6 max evidence right (plus 1 for python indexing)\n",
        "MAX_EVIDENCE = 6 ; "
      ],
      "metadata": {
        "id": "ZNyPsBwwn0Ys"
      },
      "execution_count": null,
      "outputs": []
    },
    {
      "cell_type": "code",
      "source": [
        "###########################\n",
        "#PRACTICAL REASONING MODEL#\n",
        "###########################\n",
        "\n",
        "#base = beta-bernoulli, expected value calculation = BDT model. \n",
        "POINTS_OTHER = 2; POINTS_BONUS = 3;\n",
        "N = 4200; samples = 10; #how many trials to run, how many evidence reps to sample\n",
        "\n",
        "#map evidence count to a certainty representation\n",
        "#uniform\n",
        "a = 1; b = 1;\n",
        "\n",
        "#some lists for plotting, to check things check out\n",
        "ev_worlds = []; \n",
        "\n",
        "base_creds = []; base_cred_avgs = []; #the avg will be used for the sampled representation outputs \n",
        "EV_Os = []; EV_Bs = []; EV_samp_Os = []; EV_samp_Bs = [];\n",
        "\n",
        "base_outs = []; base_samp_outs = [];\n",
        "\n",
        "#generate N samples, try varying utility, and see how motivation changes as a function of it. that's a good fig\n",
        "for i in range(N):\n",
        "\n",
        "  #sample a value which will serve as the world state, the true number of facts for bonus\n",
        "  ev_world = np.random.choice(MAX_EVIDENCE + 1)\n",
        "  ev_worlds.append(ev_world)\n",
        "\n",
        "  base_cred = beta.rvs(a + ev_world, b + (MAX_EVIDENCE - ev_world), size = 1)[0]\n",
        "  base_creds.append(base_cred)\n",
        "\n",
        "  #averaged samples\n",
        "  base_cred_avg = np.mean(beta.rvs(a + ev_world, b + (MAX_EVIDENCE - ev_world), size = samples))\n",
        "  base_cred_avgs.append(base_cred_avg)\n",
        "\n",
        "  #These EV variables are the second order beliefs (credences)\n",
        "  EV_O = (1 - base_cred) * POINTS_OTHER;\n",
        "  EV_B = base_cred * POINTS_BONUS;\n",
        "\n",
        "  #will compare against a multiple samples implementation\n",
        "  EV_samp_O = (1 - base_cred_avg) * POINTS_OTHER;\n",
        "  EV_samp_B = base_cred_avg * POINTS_BONUS;\n",
        "\n",
        "  EV_Os.append(EV_O); EV_Bs.append(EV_B);\n",
        "  EV_samp_Os.append(EV_samp_O); EV_samp_Bs.append(EV_samp_B);\n",
        "\n",
        "  #decision output\n",
        "  base_out = np.argmax([EV_O, EV_B])\n",
        "  base_outs.append(base_out)\n",
        "\n",
        "  base_samp_out = np.argmax([EV_samp_O, EV_samp_B])\n",
        "  base_samp_outs.append(base_samp_out)"
      ],
      "metadata": {
        "id": "e66epPRUS1nL"
      },
      "execution_count": null,
      "outputs": []
    },
    {
      "cell_type": "code",
      "source": [
        "#make into a dataframe\n",
        "prac_df = pd.DataFrame({'ev_world': ev_worlds,\n",
        "                         'base_cred':base_creds,\n",
        "                         'base_cred_avgs': base_cred_avgs,\n",
        "                         'EV_O': EV_Os,\n",
        "                         'EV_B': EV_Bs,\n",
        "                         'EV_samp_O': EV_samp_Os,\n",
        "                         'EV_samp_B': EV_samp_Bs,\n",
        "                         'base_out':base_outs,\n",
        "                         'base_samp_out':base_samp_outs})\n",
        "\n",
        "print(prac_df['base_cred'].mean(), prac_df['base_cred'].var())\n",
        "prac_df.head()"
      ],
      "metadata": {
        "id": "gv2C4omlS-kU",
        "colab": {
          "base_uri": "https://localhost:8080/",
          "height": 225
        },
        "outputId": "b0b8371d-9347-4ba6-b7b4-c77ac3daf91d"
      },
      "execution_count": null,
      "outputs": [
        {
          "output_type": "stream",
          "name": "stdout",
          "text": [
            "0.5054224193137001 0.08329598052726238\n"
          ]
        },
        {
          "output_type": "execute_result",
          "data": {
            "text/plain": [
              "   ev_world  base_cred  base_cred_avgs      EV_O      EV_B  EV_samp_O  \\\n",
              "0         4   0.795789        0.656558  0.408422  2.387367   0.686883   \n",
              "1         1   0.436731        0.287993  1.126538  1.310193   1.424013   \n",
              "2         2   0.166757        0.345560  1.666485  0.500272   1.308880   \n",
              "3         6   0.999204        0.899633  0.001591  2.997613   0.200735   \n",
              "4         1   0.289545        0.268013  1.420910  0.868635   1.463975   \n",
              "\n",
              "   EV_samp_B  base_out  base_samp_out  \n",
              "0   1.969675         1              1  \n",
              "1   0.863980         1              0  \n",
              "2   1.036679         0              0  \n",
              "3   2.698898         1              1  \n",
              "4   0.804038         0              0  "
            ],
            "text/html": [
              "\n",
              "  <div id=\"df-6cb479e3-b51d-4654-9ccc-d326b4b1e68b\">\n",
              "    <div class=\"colab-df-container\">\n",
              "      <div>\n",
              "<style scoped>\n",
              "    .dataframe tbody tr th:only-of-type {\n",
              "        vertical-align: middle;\n",
              "    }\n",
              "\n",
              "    .dataframe tbody tr th {\n",
              "        vertical-align: top;\n",
              "    }\n",
              "\n",
              "    .dataframe thead th {\n",
              "        text-align: right;\n",
              "    }\n",
              "</style>\n",
              "<table border=\"1\" class=\"dataframe\">\n",
              "  <thead>\n",
              "    <tr style=\"text-align: right;\">\n",
              "      <th></th>\n",
              "      <th>ev_world</th>\n",
              "      <th>base_cred</th>\n",
              "      <th>base_cred_avgs</th>\n",
              "      <th>EV_O</th>\n",
              "      <th>EV_B</th>\n",
              "      <th>EV_samp_O</th>\n",
              "      <th>EV_samp_B</th>\n",
              "      <th>base_out</th>\n",
              "      <th>base_samp_out</th>\n",
              "    </tr>\n",
              "  </thead>\n",
              "  <tbody>\n",
              "    <tr>\n",
              "      <th>0</th>\n",
              "      <td>4</td>\n",
              "      <td>0.795789</td>\n",
              "      <td>0.656558</td>\n",
              "      <td>0.408422</td>\n",
              "      <td>2.387367</td>\n",
              "      <td>0.686883</td>\n",
              "      <td>1.969675</td>\n",
              "      <td>1</td>\n",
              "      <td>1</td>\n",
              "    </tr>\n",
              "    <tr>\n",
              "      <th>1</th>\n",
              "      <td>1</td>\n",
              "      <td>0.436731</td>\n",
              "      <td>0.287993</td>\n",
              "      <td>1.126538</td>\n",
              "      <td>1.310193</td>\n",
              "      <td>1.424013</td>\n",
              "      <td>0.863980</td>\n",
              "      <td>1</td>\n",
              "      <td>0</td>\n",
              "    </tr>\n",
              "    <tr>\n",
              "      <th>2</th>\n",
              "      <td>2</td>\n",
              "      <td>0.166757</td>\n",
              "      <td>0.345560</td>\n",
              "      <td>1.666485</td>\n",
              "      <td>0.500272</td>\n",
              "      <td>1.308880</td>\n",
              "      <td>1.036679</td>\n",
              "      <td>0</td>\n",
              "      <td>0</td>\n",
              "    </tr>\n",
              "    <tr>\n",
              "      <th>3</th>\n",
              "      <td>6</td>\n",
              "      <td>0.999204</td>\n",
              "      <td>0.899633</td>\n",
              "      <td>0.001591</td>\n",
              "      <td>2.997613</td>\n",
              "      <td>0.200735</td>\n",
              "      <td>2.698898</td>\n",
              "      <td>1</td>\n",
              "      <td>1</td>\n",
              "    </tr>\n",
              "    <tr>\n",
              "      <th>4</th>\n",
              "      <td>1</td>\n",
              "      <td>0.289545</td>\n",
              "      <td>0.268013</td>\n",
              "      <td>1.420910</td>\n",
              "      <td>0.868635</td>\n",
              "      <td>1.463975</td>\n",
              "      <td>0.804038</td>\n",
              "      <td>0</td>\n",
              "      <td>0</td>\n",
              "    </tr>\n",
              "  </tbody>\n",
              "</table>\n",
              "</div>\n",
              "      <button class=\"colab-df-convert\" onclick=\"convertToInteractive('df-6cb479e3-b51d-4654-9ccc-d326b4b1e68b')\"\n",
              "              title=\"Convert this dataframe to an interactive table.\"\n",
              "              style=\"display:none;\">\n",
              "        \n",
              "  <svg xmlns=\"http://www.w3.org/2000/svg\" height=\"24px\"viewBox=\"0 0 24 24\"\n",
              "       width=\"24px\">\n",
              "    <path d=\"M0 0h24v24H0V0z\" fill=\"none\"/>\n",
              "    <path d=\"M18.56 5.44l.94 2.06.94-2.06 2.06-.94-2.06-.94-.94-2.06-.94 2.06-2.06.94zm-11 1L8.5 8.5l.94-2.06 2.06-.94-2.06-.94L8.5 2.5l-.94 2.06-2.06.94zm10 10l.94 2.06.94-2.06 2.06-.94-2.06-.94-.94-2.06-.94 2.06-2.06.94z\"/><path d=\"M17.41 7.96l-1.37-1.37c-.4-.4-.92-.59-1.43-.59-.52 0-1.04.2-1.43.59L10.3 9.45l-7.72 7.72c-.78.78-.78 2.05 0 2.83L4 21.41c.39.39.9.59 1.41.59.51 0 1.02-.2 1.41-.59l7.78-7.78 2.81-2.81c.8-.78.8-2.07 0-2.86zM5.41 20L4 18.59l7.72-7.72 1.47 1.35L5.41 20z\"/>\n",
              "  </svg>\n",
              "      </button>\n",
              "      \n",
              "  <style>\n",
              "    .colab-df-container {\n",
              "      display:flex;\n",
              "      flex-wrap:wrap;\n",
              "      gap: 12px;\n",
              "    }\n",
              "\n",
              "    .colab-df-convert {\n",
              "      background-color: #E8F0FE;\n",
              "      border: none;\n",
              "      border-radius: 50%;\n",
              "      cursor: pointer;\n",
              "      display: none;\n",
              "      fill: #1967D2;\n",
              "      height: 32px;\n",
              "      padding: 0 0 0 0;\n",
              "      width: 32px;\n",
              "    }\n",
              "\n",
              "    .colab-df-convert:hover {\n",
              "      background-color: #E2EBFA;\n",
              "      box-shadow: 0px 1px 2px rgba(60, 64, 67, 0.3), 0px 1px 3px 1px rgba(60, 64, 67, 0.15);\n",
              "      fill: #174EA6;\n",
              "    }\n",
              "\n",
              "    [theme=dark] .colab-df-convert {\n",
              "      background-color: #3B4455;\n",
              "      fill: #D2E3FC;\n",
              "    }\n",
              "\n",
              "    [theme=dark] .colab-df-convert:hover {\n",
              "      background-color: #434B5C;\n",
              "      box-shadow: 0px 1px 3px 1px rgba(0, 0, 0, 0.15);\n",
              "      filter: drop-shadow(0px 1px 2px rgba(0, 0, 0, 0.3));\n",
              "      fill: #FFFFFF;\n",
              "    }\n",
              "  </style>\n",
              "\n",
              "      <script>\n",
              "        const buttonEl =\n",
              "          document.querySelector('#df-6cb479e3-b51d-4654-9ccc-d326b4b1e68b button.colab-df-convert');\n",
              "        buttonEl.style.display =\n",
              "          google.colab.kernel.accessAllowed ? 'block' : 'none';\n",
              "\n",
              "        async function convertToInteractive(key) {\n",
              "          const element = document.querySelector('#df-6cb479e3-b51d-4654-9ccc-d326b4b1e68b');\n",
              "          const dataTable =\n",
              "            await google.colab.kernel.invokeFunction('convertToInteractive',\n",
              "                                                     [key], {});\n",
              "          if (!dataTable) return;\n",
              "\n",
              "          const docLinkHtml = 'Like what you see? Visit the ' +\n",
              "            '<a target=\"_blank\" href=https://colab.research.google.com/notebooks/data_table.ipynb>data table notebook</a>'\n",
              "            + ' to learn more about interactive tables.';\n",
              "          element.innerHTML = '';\n",
              "          dataTable['output_type'] = 'display_data';\n",
              "          await google.colab.output.renderOutput(dataTable, element);\n",
              "          const docLink = document.createElement('div');\n",
              "          docLink.innerHTML = docLinkHtml;\n",
              "          element.appendChild(docLink);\n",
              "        }\n",
              "      </script>\n",
              "    </div>\n",
              "  </div>\n",
              "  "
            ]
          },
          "metadata": {},
          "execution_count": 8
        }
      ]
    },
    {
      "cell_type": "code",
      "source": [
        "prac_df.groupby('ev_world')['base_out'].mean()"
      ],
      "metadata": {
        "colab": {
          "base_uri": "https://localhost:8080/"
        },
        "id": "IK88G8oK1xO7",
        "outputId": "d8b2570f-f678-428a-ce75-662fb5fa0d45"
      },
      "execution_count": null,
      "outputs": [
        {
          "output_type": "execute_result",
          "data": {
            "text/plain": [
              "ev_world\n",
              "0    0.040853\n",
              "1    0.128664\n",
              "2    0.457990\n",
              "3    0.721582\n",
              "4    0.906143\n",
              "5    0.981818\n",
              "6    1.000000\n",
              "Name: base_out, dtype: float64"
            ]
          },
          "metadata": {},
          "execution_count": 9
        }
      ]
    },
    {
      "cell_type": "code",
      "source": [
        "##########################\n",
        "#BAYESIAN REASONING MODEL#\n",
        "##########################\n",
        "\n",
        "#base = beta-bernoulli, expected value calculation = BDT model. \n",
        "POINTS_OTHER = 1; POINTS_BONUS = 1;\n",
        "N = 4200; samples = 10; #how many trials to run, how many evidence reps to sample\n",
        "\n",
        "#map evidence count to a certainty representation\n",
        "#uniform\n",
        "a = 1; b = 1;\n",
        "\n",
        "#some lists for plotting, to check things check out\n",
        "ev_worlds = []; \n",
        "\n",
        "base_creds = []; base_cred_avgs = []; #the avg will be used for the sampled representation outputs \n",
        "EV_Os = []; EV_Bs = []; EV_samp_Os = []; EV_samp_Bs = [];\n",
        "\n",
        "base_outs = []; base_samp_outs = [];\n",
        "\n",
        "#generate N samples, try varying utility, and see how motivation changes as a function of it. that's a good fig\n",
        "for i in range(N):\n",
        "\n",
        "  #sample a value which will serve as the world state, the true number of facts for bonus\n",
        "  ev_world = np.random.choice(MAX_EVIDENCE + 1)\n",
        "  ev_worlds.append(ev_world)\n",
        "\n",
        "  base_cred = beta.rvs(a + ev_world, b + (MAX_EVIDENCE - ev_world), size = 1)[0]\n",
        "  base_creds.append(base_cred)\n",
        "\n",
        "  #averaged samples\n",
        "  base_cred_avg = np.mean(beta.rvs(a + ev_world, b + (MAX_EVIDENCE - ev_world), size = samples))\n",
        "  base_cred_avgs.append(base_cred_avg)\n",
        "\n",
        "  #These EV variables are the second order beliefs (credences)\n",
        "  EV_O = (1 - base_cred) * POINTS_OTHER;\n",
        "  EV_B = base_cred * POINTS_BONUS;\n",
        "\n",
        "  #will compare against a multiple samples implementation\n",
        "  EV_samp_O = (1 - base_cred_avg) * POINTS_OTHER;\n",
        "  EV_samp_B = base_cred_avg * POINTS_BONUS;\n",
        "\n",
        "  EV_Os.append(EV_O); EV_Bs.append(EV_B);\n",
        "  EV_samp_Os.append(EV_samp_O); EV_samp_Bs.append(EV_samp_B);\n",
        "\n",
        "  #decision output\n",
        "  base_out = np.argmax([EV_O, EV_B])\n",
        "  base_outs.append(base_out)\n",
        "\n",
        "  base_samp_out = np.argmax([EV_samp_O, EV_samp_B])\n",
        "  base_samp_outs.append(base_samp_out)"
      ],
      "metadata": {
        "id": "L00YFz0R-V_O"
      },
      "execution_count": null,
      "outputs": []
    },
    {
      "cell_type": "code",
      "source": [
        "#make into a dataframe\n",
        "bayes_df = pd.DataFrame({'ev_world': ev_worlds,\n",
        "                         'base_cred':base_creds,\n",
        "                         'base_cred_avgs': base_cred_avgs,\n",
        "                         'EV_O': EV_Os,\n",
        "                         'EV_B': EV_Bs,\n",
        "                         'EV_samp_O': EV_samp_Os,\n",
        "                         'EV_samp_B': EV_samp_Bs,\n",
        "                         'base_out':base_outs,\n",
        "                         'base_samp_out':base_samp_outs})\n",
        "\n",
        "print(bayes_df['base_cred'].mean(), bayes_df['base_cred'].var())\n",
        "bayes_df.head()"
      ],
      "metadata": {
        "colab": {
          "base_uri": "https://localhost:8080/",
          "height": 225
        },
        "id": "z71g72_cQBRo",
        "outputId": "adf55cb7-e20b-4d42-bc0b-3955f9f31152"
      },
      "execution_count": null,
      "outputs": [
        {
          "output_type": "stream",
          "name": "stdout",
          "text": [
            "0.4968091579264406 0.0850378641184908\n"
          ]
        },
        {
          "output_type": "execute_result",
          "data": {
            "text/plain": [
              "   ev_world  base_cred  base_cred_avgs      EV_O      EV_B  EV_samp_O  \\\n",
              "0         2   0.285358        0.363114  0.714642  0.285358   0.636886   \n",
              "1         0   0.040960        0.122669  0.959040  0.040960   0.877331   \n",
              "2         2   0.782139        0.341097  0.217861  0.782139   0.658903   \n",
              "3         2   0.749555        0.405603  0.250445  0.749555   0.594397   \n",
              "4         2   0.175179        0.354982  0.824821  0.175179   0.645018   \n",
              "\n",
              "   EV_samp_B  base_out  base_samp_out  \n",
              "0   0.363114         0              0  \n",
              "1   0.122669         0              0  \n",
              "2   0.341097         1              0  \n",
              "3   0.405603         1              0  \n",
              "4   0.354982         0              0  "
            ],
            "text/html": [
              "\n",
              "  <div id=\"df-8f4b6e5a-e8e0-4a52-a16a-1114915597e0\">\n",
              "    <div class=\"colab-df-container\">\n",
              "      <div>\n",
              "<style scoped>\n",
              "    .dataframe tbody tr th:only-of-type {\n",
              "        vertical-align: middle;\n",
              "    }\n",
              "\n",
              "    .dataframe tbody tr th {\n",
              "        vertical-align: top;\n",
              "    }\n",
              "\n",
              "    .dataframe thead th {\n",
              "        text-align: right;\n",
              "    }\n",
              "</style>\n",
              "<table border=\"1\" class=\"dataframe\">\n",
              "  <thead>\n",
              "    <tr style=\"text-align: right;\">\n",
              "      <th></th>\n",
              "      <th>ev_world</th>\n",
              "      <th>base_cred</th>\n",
              "      <th>base_cred_avgs</th>\n",
              "      <th>EV_O</th>\n",
              "      <th>EV_B</th>\n",
              "      <th>EV_samp_O</th>\n",
              "      <th>EV_samp_B</th>\n",
              "      <th>base_out</th>\n",
              "      <th>base_samp_out</th>\n",
              "    </tr>\n",
              "  </thead>\n",
              "  <tbody>\n",
              "    <tr>\n",
              "      <th>0</th>\n",
              "      <td>2</td>\n",
              "      <td>0.285358</td>\n",
              "      <td>0.363114</td>\n",
              "      <td>0.714642</td>\n",
              "      <td>0.285358</td>\n",
              "      <td>0.636886</td>\n",
              "      <td>0.363114</td>\n",
              "      <td>0</td>\n",
              "      <td>0</td>\n",
              "    </tr>\n",
              "    <tr>\n",
              "      <th>1</th>\n",
              "      <td>0</td>\n",
              "      <td>0.040960</td>\n",
              "      <td>0.122669</td>\n",
              "      <td>0.959040</td>\n",
              "      <td>0.040960</td>\n",
              "      <td>0.877331</td>\n",
              "      <td>0.122669</td>\n",
              "      <td>0</td>\n",
              "      <td>0</td>\n",
              "    </tr>\n",
              "    <tr>\n",
              "      <th>2</th>\n",
              "      <td>2</td>\n",
              "      <td>0.782139</td>\n",
              "      <td>0.341097</td>\n",
              "      <td>0.217861</td>\n",
              "      <td>0.782139</td>\n",
              "      <td>0.658903</td>\n",
              "      <td>0.341097</td>\n",
              "      <td>1</td>\n",
              "      <td>0</td>\n",
              "    </tr>\n",
              "    <tr>\n",
              "      <th>3</th>\n",
              "      <td>2</td>\n",
              "      <td>0.749555</td>\n",
              "      <td>0.405603</td>\n",
              "      <td>0.250445</td>\n",
              "      <td>0.749555</td>\n",
              "      <td>0.594397</td>\n",
              "      <td>0.405603</td>\n",
              "      <td>1</td>\n",
              "      <td>0</td>\n",
              "    </tr>\n",
              "    <tr>\n",
              "      <th>4</th>\n",
              "      <td>2</td>\n",
              "      <td>0.175179</td>\n",
              "      <td>0.354982</td>\n",
              "      <td>0.824821</td>\n",
              "      <td>0.175179</td>\n",
              "      <td>0.645018</td>\n",
              "      <td>0.354982</td>\n",
              "      <td>0</td>\n",
              "      <td>0</td>\n",
              "    </tr>\n",
              "  </tbody>\n",
              "</table>\n",
              "</div>\n",
              "      <button class=\"colab-df-convert\" onclick=\"convertToInteractive('df-8f4b6e5a-e8e0-4a52-a16a-1114915597e0')\"\n",
              "              title=\"Convert this dataframe to an interactive table.\"\n",
              "              style=\"display:none;\">\n",
              "        \n",
              "  <svg xmlns=\"http://www.w3.org/2000/svg\" height=\"24px\"viewBox=\"0 0 24 24\"\n",
              "       width=\"24px\">\n",
              "    <path d=\"M0 0h24v24H0V0z\" fill=\"none\"/>\n",
              "    <path d=\"M18.56 5.44l.94 2.06.94-2.06 2.06-.94-2.06-.94-.94-2.06-.94 2.06-2.06.94zm-11 1L8.5 8.5l.94-2.06 2.06-.94-2.06-.94L8.5 2.5l-.94 2.06-2.06.94zm10 10l.94 2.06.94-2.06 2.06-.94-2.06-.94-.94-2.06-.94 2.06-2.06.94z\"/><path d=\"M17.41 7.96l-1.37-1.37c-.4-.4-.92-.59-1.43-.59-.52 0-1.04.2-1.43.59L10.3 9.45l-7.72 7.72c-.78.78-.78 2.05 0 2.83L4 21.41c.39.39.9.59 1.41.59.51 0 1.02-.2 1.41-.59l7.78-7.78 2.81-2.81c.8-.78.8-2.07 0-2.86zM5.41 20L4 18.59l7.72-7.72 1.47 1.35L5.41 20z\"/>\n",
              "  </svg>\n",
              "      </button>\n",
              "      \n",
              "  <style>\n",
              "    .colab-df-container {\n",
              "      display:flex;\n",
              "      flex-wrap:wrap;\n",
              "      gap: 12px;\n",
              "    }\n",
              "\n",
              "    .colab-df-convert {\n",
              "      background-color: #E8F0FE;\n",
              "      border: none;\n",
              "      border-radius: 50%;\n",
              "      cursor: pointer;\n",
              "      display: none;\n",
              "      fill: #1967D2;\n",
              "      height: 32px;\n",
              "      padding: 0 0 0 0;\n",
              "      width: 32px;\n",
              "    }\n",
              "\n",
              "    .colab-df-convert:hover {\n",
              "      background-color: #E2EBFA;\n",
              "      box-shadow: 0px 1px 2px rgba(60, 64, 67, 0.3), 0px 1px 3px 1px rgba(60, 64, 67, 0.15);\n",
              "      fill: #174EA6;\n",
              "    }\n",
              "\n",
              "    [theme=dark] .colab-df-convert {\n",
              "      background-color: #3B4455;\n",
              "      fill: #D2E3FC;\n",
              "    }\n",
              "\n",
              "    [theme=dark] .colab-df-convert:hover {\n",
              "      background-color: #434B5C;\n",
              "      box-shadow: 0px 1px 3px 1px rgba(0, 0, 0, 0.15);\n",
              "      filter: drop-shadow(0px 1px 2px rgba(0, 0, 0, 0.3));\n",
              "      fill: #FFFFFF;\n",
              "    }\n",
              "  </style>\n",
              "\n",
              "      <script>\n",
              "        const buttonEl =\n",
              "          document.querySelector('#df-8f4b6e5a-e8e0-4a52-a16a-1114915597e0 button.colab-df-convert');\n",
              "        buttonEl.style.display =\n",
              "          google.colab.kernel.accessAllowed ? 'block' : 'none';\n",
              "\n",
              "        async function convertToInteractive(key) {\n",
              "          const element = document.querySelector('#df-8f4b6e5a-e8e0-4a52-a16a-1114915597e0');\n",
              "          const dataTable =\n",
              "            await google.colab.kernel.invokeFunction('convertToInteractive',\n",
              "                                                     [key], {});\n",
              "          if (!dataTable) return;\n",
              "\n",
              "          const docLinkHtml = 'Like what you see? Visit the ' +\n",
              "            '<a target=\"_blank\" href=https://colab.research.google.com/notebooks/data_table.ipynb>data table notebook</a>'\n",
              "            + ' to learn more about interactive tables.';\n",
              "          element.innerHTML = '';\n",
              "          dataTable['output_type'] = 'display_data';\n",
              "          await google.colab.output.renderOutput(dataTable, element);\n",
              "          const docLink = document.createElement('div');\n",
              "          docLink.innerHTML = docLinkHtml;\n",
              "          element.appendChild(docLink);\n",
              "        }\n",
              "      </script>\n",
              "    </div>\n",
              "  </div>\n",
              "  "
            ]
          },
          "metadata": {},
          "execution_count": 11
        }
      ]
    },
    {
      "cell_type": "code",
      "source": [
        "bayes_df.groupby('ev_world')['base_out'].mean()"
      ],
      "metadata": {
        "colab": {
          "base_uri": "https://localhost:8080/"
        },
        "id": "S2SxEsui2pnr",
        "outputId": "6d0474b7-6988-47cc-db9c-7a94e4a03a44"
      },
      "execution_count": null,
      "outputs": [
        {
          "output_type": "execute_result",
          "data": {
            "text/plain": [
              "ev_world\n",
              "0    0.006633\n",
              "1    0.063444\n",
              "2    0.210702\n",
              "3    0.523478\n",
              "4    0.764605\n",
              "5    0.937063\n",
              "6    0.995066\n",
              "Name: base_out, dtype: float64"
            ]
          },
          "metadata": {},
          "execution_count": 12
        }
      ]
    },
    {
      "cell_type": "code",
      "source": [
        "#https://coolors.co/9cfffa-acf39d-b0c592-a97c73-af3e4d\n",
        "ax = sns.pointplot(x=\"ev_world\", y=\"base_out\", data=prac_df, color = '#011638', label = 'prac')\n",
        "ax.axhline(.5, ls='--')\n",
        "ax = sns.pointplot(x=\"ev_world\", y=\"base_out\", data=bayes_df, color = '#CDCDCD', label = 'bayes')\n",
        "\n",
        "\n",
        "#ax = sns.pointplot(x=\"ev_world\", y=\"base_out\", data=base_df_1_3, color = '#9933ff', label = 'base_df_1_3')\n",
        "#ax = sns.pointplot(x=\"ev_world\", y=\"base_out\", data=base_df_1_1, color = 'black', label = 'base_df_1_1')\n",
        "#decisions\n",
        "#ax = sns.pointplot(x=\"ev_world\", y=\"base_out\", data=base_df, color = '#AF3E4D', label = 'BDT')\n",
        "#ax = sns.pointplot(x=\"ev_world\", y=\"MR_out\", data=MR_df, color = '#ACF39D', label = 'MR')\n",
        "\n",
        "plt.xlabel(\"Evidence Count (out of 6)\")\n",
        "plt.ylabel(\"P(Choosing High Utility Hypothesis)\")\n",
        "\n",
        "plt.yticks([0, .25, .50, .75, 1.0])\n",
        "\n",
        "\n",
        "ax.set(title = 'Distinguishing Practical From Theoretical Rationality')\n",
        "ax.legend([r'Bayesian Practical Reasoner', r'Bayes Rule'], loc = 'upper left', frameon = False, fontsize = 'medium')\n",
        "leg = ax.get_legend()\n",
        "leg.legendHandles[0].set_color('#011638')\n",
        "leg.legendHandles[1].set_color('#CDCDCD')\n",
        "#leg.legendHandles[2].set_color('#9933ff')\n",
        "#leg.legendHandles[3].set_color('black')\n",
        "plt.savefig('PvRDecisions.pdf')"
      ],
      "metadata": {
        "colab": {
          "base_uri": "https://localhost:8080/",
          "height": 301
        },
        "id": "2gkizPmAPvja",
        "outputId": "3b128df6-6aef-4c1a-8e4f-ab19da2e5197"
      },
      "execution_count": null,
      "outputs": [
        {
          "output_type": "display_data",
          "data": {
            "text/plain": [
              "<Figure size 432x288 with 1 Axes>"
            ],
            "image/png": "[encoded data removed]"
          },
          "metadata": {}
        }
      ]
    }
  ]
}